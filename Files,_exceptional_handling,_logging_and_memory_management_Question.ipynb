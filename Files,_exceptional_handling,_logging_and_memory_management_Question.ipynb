{
  "nbformat": 4,
  "nbformat_minor": 0,
  "metadata": {
    "colab": {
      "provenance": []
    },
    "kernelspec": {
      "name": "python3",
      "display_name": "Python 3"
    },
    "language_info": {
      "name": "python"
    }
  },
  "cells": [
    {
      "cell_type": "markdown",
      "source": [
        "Que.1  What is the difference between interpreted and compiled languages\n",
        "\n",
        "Ans.Differences between interpreted and compiled languages:\n",
        "\n",
        " * Compilation: In a compiled language, the target machine directly translates the program. In an interpreted language, the source code is not directly translated by the target machine; instead, an interpreter reads and executes the code.\n",
        " * Execution: A compiler translates the entire source code to machine code, while an interpreter does it line by line.\n",
        " * Characteristics: Interpreted languages are more flexible and easier to learn, but slower and less secure. Compiled languages offer better performance and type safety, but are harder to learn and use, and less flexible.\n",
        "\n",
        " Que 2 . What is exception handling in Python\n",
        "\n",
        " Ans. Exception Handling handles errors that occur during the execution of a program. Exception handling allows to respond to the error, instead of crashing the running program. It enables you to catch and manage errors, making your code more robust and user-friendly.\n",
        "\n",
        "Example of Exception:\n",
        "Trying to divide a number by zero will cause an exception.\n",
        "\n",
        "\n",
        "n = 10\n",
        "3\n",
        "try:\n",
        "4\n",
        "    res = n / 0  # This will raise a ZeroDivisionError\n",
        "5\n",
        "    \n",
        "6\n",
        "except ZeroDivisionError:\n",
        "7\n",
        "    print(\"Can't be divided by zero!\")\n",
        "\n",
        "Output\n",
        "Can't be divided by zero!\n",
        "\n",
        "Que 3 What is the purpose of the finally block in exception handling\n",
        "\n",
        "Ans Finally Block:\n",
        "\n",
        "A finally block is the final part of a try-catch construct and is optional. The instruction contained in the last block is always executed, regardless of whether an error occurs or not. This makes it suitable for cleanup actions such as file closure and resource freeing, which preserve programme integrity in the case of a mistake.\n",
        "\n",
        "Purpose of the Finally Block:\n",
        "\n",
        "The finally block plays an important role in programming by making sure that specific activities are executed regardless of whether an error or exception happens in the try block. Here are the key reasons for its existence:\n",
        "\n",
        " * Guaranteed Execution: The finally block's principal function is to ensure that certain code runs regardless of what happened in the try block. Even if an error occurs, the code within the finally block will continue run.\n",
        "\n",
        " * Resource Cleanup: It is often employed for cleanup tasks such as closing files, disconnecting database connections, and freeing up resources in memory. This guarantees that resources are maintained and released correctly, even if an error disrupts the regular flow of execution.\n",
        "\n",
        " * State Restoration: In some cases, the finally block is used to restore the state of objects or revert changes made during the try block. This ensures that the program leaves no trace of its failed attempt and returns to a consistent state.\n",
        "\n",
        " * Finalization: Certain actions need to be performed regardless of whether an operation succeeds or fails. The finally block is the ideal place to include such finalization tasks, ensuring that critical operations are completed regardless of the outcome.\n",
        "\n",
        " Que.4 What is logging in Python.\n",
        "\n",
        " Ans Logging is a means of tracking events that happen when some software runs. Logging is important for software developing, debugging, and running. If you don’t have any logging record and your program crashes, there are very few chances that you detect the cause of the problem. And if you detect the cause, it will consume a lot of time. With logging, you can leave a trail of breadcrumbs so that if something goes wrong, we can determine the cause of the problem.\n",
        "\n",
        "There are a number of situations like if you are expecting an integer, you have been given a float and you can a cloud API, the service is down for maintenance, and much more. Such problems are out of control and are hard to determine.\n",
        "\n",
        "Que.5 What is the significance of the __del__ method in Python\n",
        "\n",
        "Ans.Automatic Resource Cleanup: The __del__ method helps ensure that resources such as file handles, network connections, and database connections are released automatically when an object is destroyed. This can prevent resource leaks and enhance the stability of your applications.\n",
        "\n",
        "Que.6 What is the difference between import and from ... import in Python\n",
        "\n",
        "Ans.The difference between import and from import in Python is:\n",
        "\n",
        "import imports an entire code library.\n",
        "from import imports a specific member or members of the library.\n",
        "For example, let’s import the datetime module as a whole:\n",
        "\n",
        "import datetime\n",
        "d1 = datetime.date(2021, 10, 19)\n",
        "In comparison, let’s only import the date class from the datetime module:\n",
        "\n",
        "from datetime import date\n",
        "d1 = date(2021, 10, 19)\n",
        "Now you can directly call the imported date function instead of accessing it via datetime.date.\n",
        "\n",
        "Using from import can save you from repeating the module name when you need to use its code many times in your code project.\n",
        "\n",
        "Que 7 F How can you handle multiple exceptions in Python\n",
        "\n",
        "Ans. Given a piece of code that can throw any of several different exceptions, and one needs to account for all of the potential exceptions that could be raised without creating duplicate code or long, meandering code passages.\n",
        "\n",
        "If you can handle different exceptions all using a single block of code, they can be grouped together in a tuple as shown in the code given below :\n",
        "\n",
        "try:\n",
        "    client_obj.get_url(url)\n",
        "except (URLError, ValueError, SocketTimeout):\n",
        "    client_obj.remove_url(url)\n",
        "\n",
        "Que.8  What is the purpose of the with statement when handling files in Python.\n",
        "\n",
        "Ans In Python, with statement is used in exception handling to make the code cleaner and much more readable. It simplifies the management of common resources like file streams. Observe the following code example on how the use of with statement makes code cleaner.\n",
        "\n",
        "The primary advantage of using the with statement is automatic resource management. It eliminates the need for explicit try and finally blocks to ensure proper cleanup of resources. When the with block exits, it automatically calls the __exit__() method of the context manager, ensuring that resources are released or cleaned up appropriately.\n",
        "\n",
        "Que 9 What is the difference between multithreading and multiprocessing\n",
        "\n",
        "\n",
        "Ans Difference Between Multiprocessing and Multithreading:\n",
        "\n",
        "\n",
        " * In Multiprocessing, CPUs are added for increasing computing power.\t  While In Multithreading, many threads are created of a single process for increasing computing power.\n",
        " * In Multiprocessing, Many processes are executed simultaneously.\tWhile in multithreading, many threads of a process are executed simultaneously.\n",
        "Multiprocessing are classified into Symmetric and Asymmetric. \tWhile Multithreading is not classified in any categories.\n",
        " * In Multiprocessing, Process creation is a time-consuming process.\t  While in Multithreading, process creation is according to economical.\n",
        " * In Multiprocessing, every process owned a separate address space.\t While in Multithreading, a common address space is shared by all the threads.\n",
        "\n",
        "Conslusion:\n",
        "\n",
        "Multiprocessing and multithreading are techniques used to improve computing efficiency. Multiprocessing uses multiple CPUs to do multiprocessing while multithreading uses multiple threads within a single process to increase performance of the system.\n",
        "\n",
        "Que 10 What are the advantages of using logging in a program\n",
        "\n",
        "Ans ogging is the process of recording messages during the execution of a program to provide runtime information that can be useful for monitoring, debugging, and auditing.\n",
        "\n",
        "In Python, logging is achieved through the built-in logging module, which provides a flexible framework for generating log messages\n",
        "\n",
        "Benefits of Logging:\n",
        "\n",
        "\n",
        " * Debugging : Helps identify and diagnose issues by capturing relevant information during program execution.\n",
        "\n",
        " * Monitoring : Provides insights into the application's behavior and performance.\n",
        "\n",
        " * Auditing : Keeps a record of important events and actions for security purposes.\n",
        "\n",
        " * Troubleshooting : Facilitates tracking of program flow and variable values to understand unexpected behavior.\n",
        "\n",
        "\n",
        "Que 11  What is memory management in Python\n",
        "\n",
        "Ans Understanding Memory allocation is important to any software developer as writing efficient code means writing a memory-efficient code. Memory allocation can be defined as allocating a block of space in the computer memory to a program. In Python memory allocation and deallocation method is automatic as the Python developers created a garbage collector for Python so that the user does not have to do manual garbage collection.\n",
        "\n",
        "Que.12  What are the basic steps involved in exception handling in Python\n",
        "\n",
        "Ans Exception Handling handles errors that occur during the execution of a program. Exception handling allows to respond to the error, instead of crashing the running program. It enables you to catch and manage errors, making your code more robust and user-friendly.\n",
        "\n",
        "Example of Exception:\n",
        "n = 10\n",
        "3\n",
        "try:\n",
        "4\n",
        "    res = n / 0  # This will raise a ZeroDivisionError\n",
        "5\n",
        "    \n",
        "6\n",
        "except ZeroDivisionError:\n",
        "7\n",
        "    print(\"Can't be divided by zero!\")\n",
        "\n",
        "Output\n",
        "Can't be divided by zero!\n",
        "Explanation:\n",
        "\n",
        "In this example, dividing number by 0 raises a ZeroDivisionError. The try block contains the code that might cause an exception and the except block handles the exception, printing an error message instead of stopping the program.\n",
        "\n",
        "Que 13 F Why is memory management important in Python\n",
        "\n",
        "Ans Efficient memory management is essential for developing high-performance Python applications. By understanding Python’s memory management mechanisms, utilizing memory optimization techniques, and leveraging memory profiling tools, you can significantly enhance the efficiency of your applications.\n",
        "\n",
        "Que 14  What is the role of try and except in exception handling\n",
        "\n",
        "Ans The try except statement can handle exceptions. Exceptions may happen when you run a program.\n",
        "\n",
        "Exceptions are errors that happen during execution of the program. Python won’t tell you about errors like syntax errors (grammar faults), instead it will abruptly stop.\n",
        "\n",
        "An abrupt exit is bad for both the end user and developer.\n",
        "\n",
        "Instead of an emergency halt, you can use a try except statement to properly deal with the problem. An emergency halt will happen if you do not properly handle exceptions.\n",
        "\n",
        "\n",
        "Que 15. How does Python's garbage collection system work\n",
        "\n",
        "Ans. Python's garbage collection works as follows:\n",
        "\n",
        " * It manages the allocation and deallocation of memory by automatically detecting and removing objects that are no longer referenced or reachable by the program.\n",
        "\n",
        " * The garbage collector runs during program execution and is triggered when an object's reference count reaches zero.\n",
        "\n",
        " *It detects objects with reference cycles and frees memory occupied by those objects.\n",
        "\n",
        " * The process of automatic deletion of unwanted or unused objects to free memory is called garbage collection in Python.\n",
        "\n",
        " * Never disable the garbage collector unless you have a good reason to do so.\n",
        "\n",
        "\n",
        "Que 16  What is the purpose of the else block in exception handling\n",
        "\n",
        "Ans An Exception is an Unexpected Event, which occurs during the execution of the program. It is also known as a run time error. When that error occurs, Python generates an exception during the execution and that can be handled, which prevents your program from interrupting.\n",
        "\n",
        "The code enters the else block only if the try clause does not raise an exception.\n",
        "\n",
        "Example: Else block will execute only when no exception occurs.\n",
        "\n",
        "# Python code to illustrate working of try()  \n",
        "2\n",
        "def divide(x, y):\n",
        "3\n",
        "    try:\n",
        "4\n",
        "        # Floor Division : Gives only Fractional\n",
        "5\n",
        "        # Part as Answer\n",
        "6\n",
        "        result = x // y\n",
        "7\n",
        "    except ZeroDivisionError:\n",
        "8\n",
        "        print(\"Sorry ! You are dividing by zero \")\n",
        "9\n",
        "    else:\n",
        "10\n",
        "        print(\"Yeah ! Your answer is :\", result)\n",
        "11\n",
        "  \n",
        "12\n",
        "# Look at parameters and note the working of Program\n",
        "13\n",
        "divide(3, 2)\n",
        "14\n",
        "divide(3, 0)\n",
        "Output:\n",
        "\n",
        "Yeah ! Your answer is : 1\n",
        "Sorry ! You are dividing by zero\n",
        "\n",
        "Que 17 What are the common logging levels in Python\n",
        "\n",
        "Ans Python logging provides different severity levels to categorize log messages. These levels include DEBUG, INFO, WARNING, ERROR, and CRITICAL. Each level serves a specific purpose and helps filter and prioritize log messages based on their importance.\n",
        "\n",
        "The DEBUG level  contains detailed information primarily useful for debugging.\n",
        "\n",
        "INFO-level   messages provide general information about the application’s execution.\n",
        "\n",
        "WARNING- level messages indicate potential issues or unexpected behavior that may require attention.\n",
        "\n",
        "ERROR-level messages signify errors that prevent the application from functioning correctly.\n",
        " CRITICAL-level messages represent severe errors that may lead to the termination of the application.\n",
        "\n",
        "By effectively utilizing these logging levels, you can control the verbosity of your logs and focus on the most relevant information for a given scenario.\n",
        "\n",
        "Que 18  What is the difference between os.fork() and multiprocessing in Python\n",
        "\n",
        "Ans The only real difference between the os.fork and multiprocessing.Process is portability and library overhead, since os.fork is not supported in windows, and the multiprocessing framework is included to make multiprocessing.Process work.\n",
        "he important distinction, then, is os.fork copies everything in the current process using Unix's forking, which means at the time of forking both processes are the same with PID differences. In Window's, this is emulated by rerunning all the setup code before the if __name__ == '__main__':, which is roughly the same as creating a subprocess using the subprocess library\n",
        "\n",
        "Que 19  What is the importance of closing a file in Python\n",
        "\n",
        "Ans In Python, file handling is a crucial aspect of programming as it allows you to read, write, and manipulate data stored in files. Files are essential for storing and retrieving information, and proper file handling is necessary to ensure the integrity and security of your data.\n",
        "\n",
        "Python provides a wide range of built-in functions and methods for working with files, making it easy to perform various file-related operations. However, understanding the importance of closing a file in Python is crucial for efficient and reliable file handling.\n",
        "\n",
        "Accessing Files in Python\n",
        "In Python, you can access files using the built-in open() function. This function takes a file path and a mode (e.g., 'r' for reading, 'w' for writing, 'a' for appending) as arguments, and returns a file object that you can use to interact with the file.\n",
        "\n",
        "file = open('example.txt', 'r')\n",
        "## Perform file operations here\n",
        "file.close()\n",
        "\n",
        "Que 20 What is the difference between file.read() and file.readline() in Python\n",
        "\n",
        "Ans ad(), readline(), and readlines()?\n",
        "In Python, read(), readline(), and readlines() are methods of a file object that allow you to read data from a file, but they work in slightly different ways:\n",
        "\n",
        "1. read()\n",
        "Functionality: Reads the entire content of a file as a single string.\n",
        "\n",
        "Use Case: Use it when you want to read the whole file at once.\n",
        "\n",
        "Example: with open('example.txt', 'r') as file: content = file.read() print(content)\n",
        "\n",
        "Note: Be cautious when working with large files, as it loads the entire file into memory.\n",
        "\n",
        "2. readline()\n",
        "Functionality: Reads the next line from the file (up to and including the newline character).\n",
        "\n",
        "Use Case: Use it when you want to read a file line by line interactively.\n",
        "\n",
        "Example: with open('example.txt', 'r') as file: line = file.readline() while line: print(line, end='') # Print each line without adding extra newline line = file.readline()\n",
        "Note: If the file ends, readline() returns an empty string ('').\n",
        "\n",
        "Que 21 What is the logging module in Python used for\n",
        "\n",
        "Ans Python Logging module is used to implement a flexible event-driven logging system, which serves as a convenient way of storing log events or messages for an application.\n",
        "\n",
        "Python Logging Module – Loggers\n",
        "The Logger object is the object of this module which we can manipulate to do all our required logging.\n",
        "\n",
        "Que 22 .F What is the os module in Python used for in file handling\n",
        "\n",
        "Ans The OS module in Python provides functions for interacting with the operating system. OS comes under Python’s standard utility modules. This module provides a portable way of using operating system-dependent functionality.\n",
        "\n",
        "The *os* and *os.path* modules include many functions to interact with the file system.\n",
        "\n",
        "Python-OS-Module Functions\n",
        "Here we will discuss some important functions of the Python os module :\n",
        "\n",
        "* Handling the Current Working Directory\n",
        "* Creating a Directory\n",
        "* Listing out Files and Directories with Python\n",
        "* Deleting Directory or Files using Python\n",
        "\n",
        "Que 23 What are the challenges associated with memory management in Python\n",
        "\n",
        "Ans Python memory management is the process of allocating and dealing with memory so that your programs can run efficiently. One advantage of Python, compared to other programming languages, is that it can perform memory management tasks automatically.\n",
        "\n",
        "You can classify memory management in Python in one of two ways: dynamic allocation or static allocation. Dynamic allocation occurs as the program is running. This means that as the program operates, it can dynamically determine where to allocate memory while reusing and releasing it. Static memory allocation happens before the running of a program, predetermining the amount and distribution of the memory, and without the ability to reuse memory.\n",
        "\n",
        "\n",
        "Que24 How do you raise an exception manually in Python\n",
        "\n",
        "Ans How to manually raise or throw an exception in Python? You may want to manually raise or throw an exception to signal that an error has occurred or to control the flow of your program. We can use the assert statement and the sys.exc_info() function to raise and re-raise excetion.\n",
        "Exceptions are an important concept in Python that allows you to handle errors and unexpected situations in your code. When an error occurs in a Python program, an exception is raised and the program terminates unless the exception is caught and handled using try except.\n",
        "\n",
        "\n",
        "Que 25  Why is it important to use multithreading in certain applications\n",
        "\n",
        "Ans Multithreading is a crucial concept in modern computing that allows multiple threads to execute concurrently, enabling more efficient utilization of system resources. By breaking down tasks into smaller threads, applications can achieve higher performance, better responsiveness, and enhanced scalability. Whether it’s handling multiple user requests or performing complex operations in parallel, multithreading is an essential technique in both single-processor and multi-processor systems. This article explores the key benefits of multithreading and how it contributes to optimizing program execution.\n",
        "\n",
        "1. Responsiveness\n",
        "Multithreading in an interactive application may allow a program to continue running even if a part of it is blocked or is performing a lengthy operation, thereby increasing responsiveness to the user. In a non multi threaded environment, a server listens to the port for some request and when the request comes, it processes the request and then resume listening to another request. The time taken while processing of request makes other users wait unnecessarily. Instead a better approach would be to pass the request to a worker thread and continue listening to port. For example, a multi threaded web browser allow user interaction in one thread while an video is being loaded in another thread. So instead of waiting for the whole web-page to load the user can continue viewing some portion of the web-page.\n",
        "\n",
        "2. Resource Sharing\n",
        "Processes may share resources only through techniques such as- Such techniques must be explicitly organized by programmer. However, threads share the memory and the resources of the process to which they belong by default. The benefit of sharing code and data is that it allows an application to have several threads of activity within same address space.\n",
        "\n",
        "3. Economy\n",
        "Allocating memory and resources for process creation is a costly job in terms of time and space. Since, threads share memory with the process it belongs, it is more economical to create and context switch threads. Generally much more time is consumed in creating and managing processes than in threads. In Solaris, for example, creating process is 30 times slower than creating threads and context switching is 5 times slower.\n",
        "\n",
        "\n",
        "4. Scalability\n",
        "The benefits of multi-programming greatly increase in case of multiprocessor architecture, where threads may be running parallel on multiple processors. If there is only one thread then it is not possible to divide the processes into smaller tasks that different processors can perform. Single threaded process can run only on one processor regardless of how many processors are available. Multi-threading on a multiple CPU machine increases parallelism.\n",
        "\n",
        "5. Better Communication System\n",
        "To improve the inter-process communication, thread synchronization functions can be used. Also, when need to share huge amounts of data across multiple threads of execution inside the same address space then provides extremely high bandwidth and low communication across the various tasks within the application.\n",
        "\n",
        "6. Microprocessor Architecture Utilization\n",
        "Every thread could be execute in parallel on a distinct processor which might be considerably amplified in a microprocessor architecture. Multithreading enhances concurrency on a multi CPU machine. Also the CPU switches among threads very quickly in a single processor architecture where it creates the illusion of parallelism, but at a particular time only one thread can running.\n",
        "\n",
        "7. Minimized system resource usage\n",
        "Threads have a minimal influence on the system’s resources. The overhead of creating, maintaining, and managing threads is lower than a general process.\n",
        "\n",
        "8. Enhanced Concurrency\n",
        "Multithreading can enhance the concurrency of a multi-CPU machine. This is because the multithreading allows every thread to be executed in parallel on a distinct processor.\n",
        "\n",
        "9. Reduced Context Switching Time\n",
        "The threads minimize the context switching time as in Thread Context Switching, the virtual memory space remains the same.\n",
        "\n",
        "\n",
        "Practical Questions:\n",
        "\n",
        "Que 1 F How can you open a file for writing in Python and write a string to it\n",
        "\n"
      ],
      "metadata": {
        "id": "zlh4k_yhIf-X"
      }
    },
    {
      "cell_type": "code",
      "source": [
        "\n",
        "with open('example.txt', 'w') as file:\n",
        "    file.write('Hello, world!')"
      ],
      "metadata": {
        "id": "GVUeNSXbWI1w"
      },
      "execution_count": null,
      "outputs": []
    },
    {
      "cell_type": "markdown",
      "source": [
        "Que 2 F Write a Python program to read the contents of a file and print each line\n"
      ],
      "metadata": {
        "id": "SprZaFmOWZw9"
      }
    },
    {
      "cell_type": "code",
      "source": [
        "# Open the file in read mode\n",
        "file = open(\"geeks.txt\", \"r\")\n",
        "# Read each line one by one\n",
        "for line in file:\n",
        "    print(line.strip())  # .strip() to remove newline characters\n",
        "# Close the file\n",
        "file.close()"
      ],
      "metadata": {
        "id": "fq_vhHCRXn6e"
      },
      "execution_count": null,
      "outputs": []
    },
    {
      "cell_type": "markdown",
      "source": [
        "Que 3 =F How would you handle a case where the file doesn't exist while trying to open it for reading"
      ],
      "metadata": {
        "id": "RqSU30dCXpK2"
      }
    },
    {
      "cell_type": "code",
      "source": [
        "from pathlib import Path\n",
        "\n",
        "# File path\n",
        "a = Path(\"myfile.txt\")\n",
        "\n",
        "# Check if the file exists\n",
        "if a.exists():\n",
        "    print(\"File exists\")\n",
        "else:\n",
        "    print(\"File does not exist\")"
      ],
      "metadata": {
        "colab": {
          "base_uri": "https://localhost:8080/"
        },
        "id": "eof5yDi8Xx6L",
        "outputId": "ecd45454-9e7a-41f6-d3be-9d77138da6ab"
      },
      "execution_count": null,
      "outputs": [
        {
          "output_type": "stream",
          "name": "stdout",
          "text": [
            "File does not exist\n"
          ]
        }
      ]
    },
    {
      "cell_type": "markdown",
      "source": [
        "Que 4  Write a Python script that reads from one file and writes its content to another file\n",
        "\n"
      ],
      "metadata": {
        "id": "i3zsGX7YYCkd"
      }
    },
    {
      "cell_type": "code",
      "source": [
        "\n",
        "\n",
        "\n",
        "\n",
        "# Taking \"gfg input file.txt\" as input file\n",
        "# in reading mode\n",
        "with open(\"gfg input file.txt\", \"r\") as input:\n",
        "\n",
        "    # Creating \"gfg output file.txt\" as output\n",
        "    # file in write mode\n",
        "    with open(\"gfg output file.txt\", \"w\") as output:\n",
        "\n",
        "        # Writing each line from input file to\n",
        "        # output file using loop\n",
        "        for line in input:\n",
        "            output.write(line)"
      ],
      "metadata": {
        "id": "p-HWZWF2Ydru"
      },
      "execution_count": null,
      "outputs": []
    },
    {
      "cell_type": "markdown",
      "source": [
        "Que 5 F How would you catch and handle division by zero error in Python\n",
        "\n",
        "Ans"
      ],
      "metadata": {
        "id": "2dQoUft7YgpB"
      }
    },
    {
      "cell_type": "code",
      "source": [
        "a = 15.0\n",
        "b = 0\n",
        "\n",
        "try:\n",
        "    result = a / b\n",
        "except ZeroDivisionError:\n",
        "    result = 0\n",
        "\n",
        "print(result)"
      ],
      "metadata": {
        "colab": {
          "base_uri": "https://localhost:8080/"
        },
        "id": "gVUBzEmgZLzQ",
        "outputId": "258ce82c-c415-4c83-cd16-0e524d339aca"
      },
      "execution_count": null,
      "outputs": [
        {
          "output_type": "stream",
          "name": "stdout",
          "text": [
            "0\n"
          ]
        }
      ]
    },
    {
      "cell_type": "markdown",
      "source": [
        "Que 6  Write a Python program that logs an error message to a log file when a division by zero exception occurs"
      ],
      "metadata": {
        "id": "GNPu7oqMZO-R"
      }
    },
    {
      "cell_type": "code",
      "source": [
        "import logging\n",
        "\n",
        "# Configure logging\n",
        "logging.basicConfig(filename='error_log.log', level=logging.ERROR,\n",
        "                    format='%(asctime)s - %(levelname)s - %(message)s')\n",
        "\n",
        "def divide(a, b):\n",
        "    try:\n",
        "        result = a / b\n",
        "        return result\n",
        "    except ZeroDivisionError as e:\n",
        "        logging.error(\"Division by zero error: %s\", e)\n",
        "        return None\n",
        "\n",
        "# Example usage\n",
        "if __name__ == \"__main__\":\n",
        "    num1 = 10\n",
        "    num2 = 0\n",
        "    divide(num1, num2)"
      ],
      "metadata": {
        "colab": {
          "base_uri": "https://localhost:8080/"
        },
        "id": "D7oScd9ShWMf",
        "outputId": "33fb9e16-47b7-46c6-f1d4-eff99251da65"
      },
      "execution_count": null,
      "outputs": [
        {
          "output_type": "stream",
          "name": "stderr",
          "text": [
            "ERROR:root:Division by zero error: division by zero\n"
          ]
        }
      ]
    },
    {
      "cell_type": "markdown",
      "source": [
        "Que 7\u0019F How do you log information at different levels (INFO, ERROR, WARNING) in Python using the logging module"
      ],
      "metadata": {
        "id": "_TeRo5ElhYkj"
      }
    },
    {
      "cell_type": "code",
      "source": [
        "import logging\n",
        "\n",
        "# Create and configure logger\n",
        "logging.basicConfig(filename=\"newfile.log\",\n",
        "                    format='%(asctime)s %(message)s',\n",
        "                    filemode='w')\n",
        "\n",
        "# Creating an object\n",
        "logger = logging.getLogger()\n",
        "\n",
        "# Setting the threshold of logger to DEBUG\n",
        "logger.setLevel(logging.DEBUG)\n",
        "\n",
        "# Test messages\n",
        "logger.debug(\"Harmless debug Message\")\n",
        "logger.info(\"Just an information\")\n",
        "logger.warning(\"Its a Warning\")\n",
        "logger.error(\"Did you try to divide by zero\")\n",
        "logger.critical(\"Internet is down\")"
      ],
      "metadata": {
        "colab": {
          "base_uri": "https://localhost:8080/"
        },
        "id": "LhUBB_0qheLp",
        "outputId": "44f03ff3-97cc-4c47-84c2-0640ac025bbe"
      },
      "execution_count": null,
      "outputs": [
        {
          "output_type": "stream",
          "name": "stderr",
          "text": [
            "DEBUG:root:Harmless debug Message\n",
            "INFO:root:Just an information\n",
            "WARNING:root:Its a Warning\n",
            "ERROR:root:Did you try to divide by zero\n",
            "CRITICAL:root:Internet is down\n"
          ]
        }
      ]
    },
    {
      "cell_type": "markdown",
      "source": [
        "Que 8 \u0014F Write a program to handle a file opening error using exception handling"
      ],
      "metadata": {
        "id": "ve99-HUwht3v"
      }
    },
    {
      "cell_type": "code",
      "source": [
        "try:\n",
        "    # Attempt to open a file\n",
        "    with open('example.txt', 'r') as file:\n",
        "        content = file.read()\n",
        "        print(content)\n",
        "except FileNotFoundError:\n",
        "    # Handle the case where the file does not exist\n",
        "    print(\"Error: The file 'example.txt' was not found.\")\n",
        "except IOError:\n",
        "    # Handle other I/O errors\n",
        "    print(\"Error: An I/O error occurred while accessing the file.\")"
      ],
      "metadata": {
        "colab": {
          "base_uri": "https://localhost:8080/"
        },
        "id": "VIn37X3Zhzpz",
        "outputId": "8ec3e22c-2531-4e23-a22b-314a3904ed4b"
      },
      "execution_count": null,
      "outputs": [
        {
          "output_type": "stream",
          "name": "stdout",
          "text": [
            "Hello, world!\n"
          ]
        }
      ]
    },
    {
      "cell_type": "markdown",
      "source": [
        "Que 9  How can you read a file line by line and store its content in a list in Python"
      ],
      "metadata": {
        "id": "IZE6Z96rh-xV"
      }
    },
    {
      "cell_type": "code",
      "source": [
        "with open('filename.txt', 'r') as file:\n",
        "    lines = file.readlines()"
      ],
      "metadata": {
        "id": "JpD_vBDljjXu"
      },
      "execution_count": null,
      "outputs": []
    },
    {
      "cell_type": "markdown",
      "source": [
        "Que 10 F How can you append data to an existing file in Python"
      ],
      "metadata": {
        "id": "BzXHgZqkjpZt"
      }
    },
    {
      "cell_type": "code",
      "source": [
        "file1 = open(\"myfile.txt\", \"w\")\n",
        "L = [\"This is Delhi \\n\", \"This is Paris \\n\", \"This is London\"]\n",
        "file1.writelines(L)\n",
        "file1.close()\n",
        "\n",
        "# Append-adds at last\n",
        "file1 = open(\"myfile.txt\", \"a\")  # append mode\n",
        "file1.write(\"Today \\n\")\n",
        "file1.close()\n",
        "\n",
        "file1 = open(\"myfile.txt\", \"r\")\n",
        "print(\"Output of Readlines after appending\")\n",
        "print(file1.read())\n",
        "print()\n",
        "file1.close()\n",
        "\n",
        "# Write-Overwrites\n",
        "file1 = open(\"myfile.txt\", \"w\")  # write mode\n",
        "file1.write(\"Tomorrow \\n\")\n",
        "file1.close()\n",
        "\n",
        "file1 = open(\"myfile.txt\", \"r\")\n",
        "print(\"Output of Readlines after writing\")\n",
        "print(file1.read())\n",
        "print()\n",
        "file1.close()"
      ],
      "metadata": {
        "colab": {
          "base_uri": "https://localhost:8080/"
        },
        "id": "HvjwbjyNjuZJ",
        "outputId": "864cbd4b-8222-4a90-e643-3617c5b26858"
      },
      "execution_count": null,
      "outputs": [
        {
          "output_type": "stream",
          "name": "stdout",
          "text": [
            "Output of Readlines after appending\n",
            "This is Delhi \n",
            "This is Paris \n",
            "This is LondonToday \n",
            "\n",
            "\n",
            "Output of Readlines after writing\n",
            "Tomorrow \n",
            "\n",
            "\n"
          ]
        }
      ]
    },
    {
      "cell_type": "markdown",
      "source": [
        "Que 11 Write a Python program that uses a try-except block to handle an error when attempting to access a\n",
        "dictionary key that doesn't exist"
      ],
      "metadata": {
        "id": "dWhmyjsCkPKX"
      }
    },
    {
      "cell_type": "code",
      "source": [
        "# Define a sample dictionary\n",
        "sample_dict = {\n",
        "    'name': 'Alice',\n",
        "    'age': 30,\n",
        "    'city': 'Wonderland'\n",
        "}\n",
        "\n",
        "# Key to access\n",
        "key_to_access = 'country'\n",
        "\n",
        "try:\n",
        "    # Attempt to access the key\n",
        "    value = sample_dict[key_to_access]\n",
        "    print(f\"The value for '{key_to_access}' is: {value}\")\n",
        "except KeyError:\n",
        "    # Handle the error if the key doesn't exist\n",
        "    print(f\"Error: The key '{key_to_access}' does not exist in the dictionary.\")"
      ],
      "metadata": {
        "colab": {
          "base_uri": "https://localhost:8080/"
        },
        "id": "9eeTFFnKkUNq",
        "outputId": "71afd6b6-e858-4171-843a-d5dcd64c47c4"
      },
      "execution_count": null,
      "outputs": [
        {
          "output_type": "stream",
          "name": "stdout",
          "text": [
            "Error: The key 'country' does not exist in the dictionary.\n"
          ]
        }
      ]
    },
    {
      "cell_type": "code",
      "source": [],
      "metadata": {
        "id": "SAutTCQTkffk"
      },
      "execution_count": null,
      "outputs": []
    },
    {
      "cell_type": "markdown",
      "source": [
        "Que 12 Write a program that demonstrates using multiple except blocks to handle different types of exceptions"
      ],
      "metadata": {
        "id": "JmgpThvokwIA"
      }
    },
    {
      "cell_type": "code",
      "source": [
        "def divide_numbers(a, b):\n",
        "    try:\n",
        "        result = a / b\n",
        "        print(f\"The result of {a} divided by {b} is {result}\")\n",
        "    except ZeroDivisionError:\n",
        "        print(\"Error: Division by zero is not allowed.\")\n",
        "    except TypeError:\n",
        "        print(\"Error: Both inputs must be numbers.\")\n",
        "    except Exception as e:\n",
        "        print(f\"An unexpected error occurred: {e}\")\n",
        "\n",
        "# Test cases\n",
        "divide_numbers(10, 2)  # Should print the result\n",
        "divide_numbers(10, 0)  # Should handle ZeroDivisionError\n",
        "divide_numbers(10, 'a')  # Should handle TypeError\n",
        "divide_numbers('a', 'b')  # Should handle TypeError"
      ],
      "metadata": {
        "colab": {
          "base_uri": "https://localhost:8080/"
        },
        "id": "J2n1NHZek0t8",
        "outputId": "7a0f88e0-2b00-40d5-d9a9-4824fad811f9"
      },
      "execution_count": null,
      "outputs": [
        {
          "output_type": "stream",
          "name": "stdout",
          "text": [
            "The result of 10 divided by 2 is 5.0\n",
            "Error: Division by zero is not allowed.\n",
            "Error: Both inputs must be numbers.\n",
            "Error: Both inputs must be numbers.\n"
          ]
        }
      ]
    },
    {
      "cell_type": "markdown",
      "source": [
        "Que 13 F How would you check if a file exists before attempting to read it in Python\u001f"
      ],
      "metadata": {
        "id": "Iuei21gXlDsO"
      }
    },
    {
      "cell_type": "code",
      "source": [
        "import os\n",
        "\n",
        "file_path = 'example.txt'\n",
        "\n",
        "if os.path.exists(file_path):\n",
        "    with open(file_path, 'r') as file:\n",
        "        content = file.read()\n",
        "        print(content)\n",
        "else:\n",
        "    print(f\"The file {file_path} does not exist.\")"
      ],
      "metadata": {
        "colab": {
          "base_uri": "https://localhost:8080/"
        },
        "id": "nEDVNY-8lHzi",
        "outputId": "eba2bda1-e587-45dc-b9ac-d4c4b33977db"
      },
      "execution_count": null,
      "outputs": [
        {
          "output_type": "stream",
          "name": "stdout",
          "text": [
            "Hello, world!\n"
          ]
        }
      ]
    },
    {
      "cell_type": "markdown",
      "source": [
        "Que 14 Write a program that uses the logging module to log both informational and error message"
      ],
      "metadata": {
        "id": "D-TKgcDblc7A"
      }
    },
    {
      "cell_type": "code",
      "source": [
        "import logging\n",
        "\n",
        "# Configure the logging\n",
        "logging.basicConfig(level=logging.DEBUG,\n",
        "                    format='%(asctime)s - %(levelname)s - %(message)s',\n",
        "                    handlers=[\n",
        "                        logging.FileHandler(\"app.log\"),\n",
        "                        logging.StreamHandler()\n",
        "                    ])\n",
        "\n",
        "def main():\n",
        "    try:\n",
        "        logging.info(\"Program started\")\n",
        "\n",
        "        # Simulate some operations\n",
        "        logging.info(\"Performing some operations...\")\n",
        "\n",
        "        # Simulate an error\n",
        "        x = 1 / 0\n",
        "\n",
        "    except ZeroDivisionError as e:\n",
        "        logging.error(\"An error occurred: %s\", e)\n",
        "\n",
        "    finally:\n",
        "        logging.info(\"Program ended\")\n",
        "\n",
        "if __name__ == \"__main__\":\n",
        "    main()"
      ],
      "metadata": {
        "colab": {
          "base_uri": "https://localhost:8080/"
        },
        "id": "n_9mSL_k-MVQ",
        "outputId": "f027af76-1714-420b-b492-a74ebdd2bf74"
      },
      "execution_count": null,
      "outputs": [
        {
          "output_type": "stream",
          "name": "stderr",
          "text": [
            "ERROR:root:An error occurred: division by zero\n"
          ]
        }
      ]
    },
    {
      "cell_type": "markdown",
      "source": [
        "Que 15 F Write a Python program that prints the content of a file and handles the case when the file is empty"
      ],
      "metadata": {
        "id": "eyqJ833p-PXz"
      }
    },
    {
      "cell_type": "code",
      "source": [
        "def print_file_content(file_path):\n",
        "    try:\n",
        "        with open(file_path, 'r') as file:\n",
        "            content = file.read()\n",
        "            if content:\n",
        "                print(content)\n",
        "            else:\n",
        "                print(\"The file is empty.\")\n",
        "    except FileNotFoundError:\n",
        "        print(f\"The file at {file_path} does not exist.\")\n",
        "    except Exception as e:\n",
        "        print(f\"An error occurred: {e}\")\n",
        "\n",
        "# Example usage\n",
        "file_path = 'example.txt'\n",
        "print_file_content(file_path)"
      ],
      "metadata": {
        "colab": {
          "base_uri": "https://localhost:8080/"
        },
        "id": "fo4UvsKX-VPX",
        "outputId": "ab5f78de-0088-4f4d-9328-cf73ae44d116"
      },
      "execution_count": null,
      "outputs": [
        {
          "output_type": "stream",
          "name": "stdout",
          "text": [
            "The file at example.txt does not exist.\n"
          ]
        }
      ]
    },
    {
      "cell_type": "markdown",
      "source": [
        "Que 16 )F Demonstrate how to use memory profiling to check the memory usage of a small program"
      ],
      "metadata": {
        "id": "eBGouvHG-ffH"
      }
    },
    {
      "cell_type": "code",
      "source": [
        "pip install memory-profiler"
      ],
      "metadata": {
        "colab": {
          "base_uri": "https://localhost:8080/"
        },
        "id": "Hy3UQovs__BI",
        "outputId": "256eb6e6-610b-4d0d-ebbc-ac34c9fcb8b5"
      },
      "execution_count": null,
      "outputs": [
        {
          "output_type": "stream",
          "name": "stdout",
          "text": [
            "Collecting memory-profiler\n",
            "  Downloading memory_profiler-0.61.0-py3-none-any.whl.metadata (20 kB)\n",
            "Requirement already satisfied: psutil in /usr/local/lib/python3.10/dist-packages (from memory-profiler) (5.9.5)\n",
            "Downloading memory_profiler-0.61.0-py3-none-any.whl (31 kB)\n",
            "Installing collected packages: memory-profiler\n",
            "Successfully installed memory-profiler-0.61.0\n"
          ]
        }
      ]
    },
    {
      "cell_type": "code",
      "source": [
        "# my_script.py\n",
        "\n",
        "from memory_profiler import profile\n",
        "\n",
        "@profile\n",
        "def my_function():\n",
        "    a = [1] * (10 ** 6)  # Create a large list\n",
        "    b = [2] * (2 * 10 ** 7)  # Create an even larger list\n",
        "    del b  # Delete the large list to free memory\n",
        "    return a\n",
        "\n",
        "if __name__ == \"__main__\":\n",
        "    my_function()"
      ],
      "metadata": {
        "colab": {
          "base_uri": "https://localhost:8080/"
        },
        "id": "sICtIDzN_6DC",
        "outputId": "b5c1cdab-5180-4729-d161-89ab5ac4dfd6"
      },
      "execution_count": null,
      "outputs": [
        {
          "output_type": "stream",
          "name": "stderr",
          "text": [
            "\n",
            "PYDEV DEBUGGER WARNING:\n",
            "sys.settrace() should not be used when the debugger is being used.\n",
            "This may cause the debugger to stop working correctly.\n",
            "If this is needed, please check: \n",
            "http://pydev.blogspot.com/2007/06/why-cant-pydev-debugger-work-with.html\n",
            "to see how to restore the debug tracing back correctly.\n",
            "Call Location:\n",
            "  File \"/usr/local/lib/python3.10/dist-packages/memory_profiler.py\", line 847, in enable\n",
            "    sys.settrace(self.trace_memory_usage)\n",
            "\n"
          ]
        },
        {
          "output_type": "stream",
          "name": "stdout",
          "text": [
            "ERROR: Could not find file <ipython-input-7-4adf31991b84>\n",
            "NOTE: %mprun can only be used on functions defined in physical files, and not in the IPython environment.\n"
          ]
        },
        {
          "output_type": "stream",
          "name": "stderr",
          "text": [
            "\n",
            "PYDEV DEBUGGER WARNING:\n",
            "sys.settrace() should not be used when the debugger is being used.\n",
            "This may cause the debugger to stop working correctly.\n",
            "If this is needed, please check: \n",
            "http://pydev.blogspot.com/2007/06/why-cant-pydev-debugger-work-with.html\n",
            "to see how to restore the debug tracing back correctly.\n",
            "Call Location:\n",
            "  File \"/usr/local/lib/python3.10/dist-packages/memory_profiler.py\", line 850, in disable\n",
            "    sys.settrace(self._original_trace_function)\n",
            "\n"
          ]
        }
      ]
    },
    {
      "cell_type": "markdown",
      "source": [
        "Que 17  Write a Python program to create and write a list of numbers to a file, one number per line"
      ],
      "metadata": {
        "id": "ZOCe2Ib9AEPq"
      }
    },
    {
      "cell_type": "code",
      "source": [
        "# Define the list of numbers\n",
        "numbers = [1, 2, 3, 4, 5, 6, 7, 8, 9, 10]\n",
        "\n",
        "# Open a file in write mode\n",
        "with open('numbers.txt', 'w') as file:\n",
        "    # Write each number to the file, one per line\n",
        "    for number in numbers:\n",
        "        file.write(f\"{number}\\n\")\n",
        "\n",
        "print(\"Numbers have been written to numbers.txt\")"
      ],
      "metadata": {
        "colab": {
          "base_uri": "https://localhost:8080/"
        },
        "id": "f5ailc1qA5Wd",
        "outputId": "88a0eb10-2eff-4dd9-bbe6-d995adb716e0"
      },
      "execution_count": null,
      "outputs": [
        {
          "output_type": "stream",
          "name": "stdout",
          "text": [
            "Numbers have been written to numbers.txt\n"
          ]
        }
      ]
    },
    {
      "cell_type": "markdown",
      "source": [
        "Que 18 F How would you implement a basic logging setup that logs to a file with rotation after 1MB"
      ],
      "metadata": {
        "id": "ZlXtjA3CA7rI"
      }
    },
    {
      "cell_type": "code",
      "source": [
        "import logging\n",
        "\n",
        "# Basic configuration\n",
        "logging.basicConfig(\n",
        "    level=logging.INFO,\n",
        "    format='%(asctime)s - %(name)s - %(levelname)s - %(message)s'\n",
        ")\n",
        "\n",
        "# Your first logger\n",
        "logger = logging.getLogger(__name__)\n",
        "\n",
        "# Using the logger\n",
        "logger.info(\"Application started\")\n",
        "logger.warning(\"Watch out!\")\n",
        "logger.error(\"Something went wrong\")"
      ],
      "metadata": {
        "colab": {
          "base_uri": "https://localhost:8080/"
        },
        "id": "uWt9WP_tBAim",
        "outputId": "a3da23d5-5c93-4c37-acdb-b9a0cce39c7f"
      },
      "execution_count": null,
      "outputs": [
        {
          "output_type": "stream",
          "name": "stderr",
          "text": [
            "WARNING:__main__:Watch out!\n",
            "ERROR:__main__:Something went wrong\n"
          ]
        }
      ]
    },
    {
      "cell_type": "markdown",
      "source": [
        "Que 19 Write a program that handles both IndexError and KeyError using a try-except block"
      ],
      "metadata": {
        "id": "DF-8tCkgBrly"
      }
    },
    {
      "cell_type": "code",
      "source": [
        "def handle_errors():\n",
        "    my_list = [1, 2, 3]\n",
        "    my_dict = {'a': 1, 'b': 2}\n",
        "\n",
        "    try:\n",
        "        # Attempt to access an index that doesn't exist\n",
        "        print(my_list[5])\n",
        "    except IndexError as e:\n",
        "        print(f\"IndexError encountered: {e}\")\n",
        "\n",
        "    try:\n",
        "        # Attempt to access a key that doesn't exist\n",
        "        print(my_dict['c'])\n",
        "    except KeyError as e:\n",
        "        print(f\"KeyError encountered: {e}\")\n",
        "\n",
        "if __name__ == \"__main__\":\n",
        "    handle_errors()"
      ],
      "metadata": {
        "colab": {
          "base_uri": "https://localhost:8080/"
        },
        "id": "Ms-lIXtbBwv4",
        "outputId": "733698b3-f1b6-4be7-caf2-9831b9a7fbcd"
      },
      "execution_count": null,
      "outputs": [
        {
          "output_type": "stream",
          "name": "stdout",
          "text": [
            "IndexError encountered: list index out of range\n",
            "KeyError encountered: 'c'\n"
          ]
        }
      ]
    },
    {
      "cell_type": "markdown",
      "source": [
        "Que 20 How would you open a file and read its contents using a context manager in Python"
      ],
      "metadata": {
        "id": "YZV3vP1eB7Qu"
      }
    },
    {
      "cell_type": "code",
      "source": [
        "class MyContextManager:\n",
        "    def __enter__(self):\n",
        "        print(\"Entering the context\")\n",
        "        return self\n",
        "\n",
        "    def __exit__(self, exc_type, exc_value, traceback):\n",
        "        print(\"Exiting the context\")\n",
        "        # Return False to propagate exceptions, True to suppress them\n",
        "        return False\n",
        "\n",
        "# Using the custom context manager\n",
        "with MyContextManager() as manager:\n",
        "    print(\"Inside the context\")"
      ],
      "metadata": {
        "colab": {
          "base_uri": "https://localhost:8080/"
        },
        "id": "2O4uwItsCpLb",
        "outputId": "2f713545-0def-4be7-e426-b22b135b47ee"
      },
      "execution_count": null,
      "outputs": [
        {
          "output_type": "stream",
          "name": "stdout",
          "text": [
            "Entering the context\n",
            "Inside the context\n",
            "Exiting the context\n"
          ]
        }
      ]
    },
    {
      "cell_type": "markdown",
      "source": [
        "Que.21 F Write a Python program that reads a file and prints the number of occurrences of a specific word"
      ],
      "metadata": {
        "id": "Yr7JjUVSFMdY"
      }
    },
    {
      "cell_type": "code",
      "source": [
        "def count_word_occurrences(file_path, target_word):\n",
        "    try:\n",
        "        with open(file_path, 'r', encoding='utf-8') as file:\n",
        "            content = file.read()\n",
        "            words = content.split()\n",
        "            word_count = words.count(target_word)\n",
        "            print(f\"The word '{target_word}' occurs {word_count} times in the file.\")\n",
        "    except FileNotFoundError:\n",
        "        print(f\"The file at {file_path} was not found.\")\n",
        "    except Exception as e:\n",
        "        print(f\"An error occurred: {e}\")\n",
        "\n",
        "# Example usage\n",
        "file_path = 'example.txt'  # Replace with your file path\n",
        "target_word = 'specific'   # Replace with the word you want to count\n",
        "count_word_occurrences(file_path, target_word)"
      ],
      "metadata": {
        "colab": {
          "base_uri": "https://localhost:8080/"
        },
        "id": "4axqMUmiFTF3",
        "outputId": "4ac51c42-0517-4799-a245-2b86fd0688fb"
      },
      "execution_count": null,
      "outputs": [
        {
          "output_type": "stream",
          "name": "stdout",
          "text": [
            "The file at example.txt was not found.\n"
          ]
        }
      ]
    },
    {
      "cell_type": "markdown",
      "source": [
        "Que.22 F How can you check if a file is empty before attempting to read its contents"
      ],
      "metadata": {
        "id": "N-ybgvxNFf1-"
      }
    },
    {
      "cell_type": "code",
      "source": [
        "import os\n",
        "\n",
        "file_path = 'example.txt'\n",
        "if os.path.getsize(file_path) == 0:\n",
        "    print(f\"The file '{file_path}' is empty.\")\n",
        "else:\n",
        "    print(f\"The file '{file_path}' is not empty.\")"
      ],
      "metadata": {
        "id": "TBrsDEf5HArm"
      },
      "execution_count": null,
      "outputs": []
    },
    {
      "cell_type": "markdown",
      "source": [
        "Que 23 F Write a Python program that writes to a log file when an error occurs during file handling"
      ],
      "metadata": {
        "id": "Zad18RDgHkJy"
      }
    },
    {
      "cell_type": "code",
      "source": [
        "import logging\n",
        "\n",
        "# Configure logging\n",
        "logging.basicConfig(filename='error_log.txt', level=logging.ERROR,\n",
        "                    format='%(asctime)s - %(levelname)s - %(message)s')\n",
        "\n",
        "def read_file(file_path):\n",
        "    try:\n",
        "        with open(file_path, 'r') as file:\n",
        "            data = file.read()\n",
        "            print(data)\n",
        "    except Exception as e:\n",
        "        logging.error(f\"Error reading file {file_path}: {e}\")\n",
        "\n",
        "def write_file(file_path, content):\n",
        "    try:\n",
        "        with open(file_path, 'w') as file:\n",
        "            file.write(content)\n",
        "    except Exception as e:\n",
        "        logging.error(f\"Error writing to file {file_path}: {e}\")\n",
        "\n",
        "# Example usage\n",
        "read_file('example.txt')\n",
        "write_file('example.txt', 'Hello, world!')\n"
      ],
      "metadata": {
        "colab": {
          "base_uri": "https://localhost:8080/"
        },
        "id": "0gptCjoHIYJC",
        "outputId": "113e22d6-6da5-43da-a7c4-c3afd82dc8b6"
      },
      "execution_count": null,
      "outputs": [
        {
          "output_type": "stream",
          "name": "stderr",
          "text": [
            "ERROR:root:Error reading file example.txt: [Errno 2] No such file or directory: 'example.txt'\n"
          ]
        }
      ]
    }
  ]
}